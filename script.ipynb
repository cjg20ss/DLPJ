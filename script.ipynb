{
 "cells": [
  {
   "attachments": {},
   "cell_type": "markdown",
   "metadata": {},
   "source": [
    "1、使用yolov5模型进行目标检测，将视频每一帧中识别出的目标的bounding box位置、目标的类别、置信度保存在 `video_obj_detect/test/mylabels/` 目录下。（输入视频文件为test.mp4）"
   ]
  },
  {
   "cell_type": "code",
   "execution_count": 23,
   "metadata": {},
   "outputs": [
    {
     "name": "stderr",
     "output_type": "stream",
     "text": [
      "\u001b[34m\u001b[1mdetect: \u001b[0mweights=['yolov5/yolov5s.pt'], source=input_video/test1.mp4, data=yolov5\\data\\coco128.yaml, imgsz=[640, 640], conf_thres=0.25, iou_thres=0.45, max_det=1000, device=, view_img=False, save_txt=True, save_conf=True, save_crop=False, nosave=False, classes=None, agnostic_nms=False, augment=False, visualize=False, update=False, project=yolov5\\runs\\detect, name=exp, exist_ok=False, line_thickness=3, hide_labels=False, hide_conf=False, half=False, dnn=False, vid_stride=1, mylabels_path=video_obj_detect\n",
      "YOLOv5  2023-6-8 Python-3.9.12 torch-1.13.1+cpu CPU\n",
      "\n",
      "Fusing layers... \n",
      "YOLOv5s summary: 213 layers, 7225885 parameters, 0 gradients\n",
      "Speed: 0.8ms pre-process, 115.9ms inference, 1.3ms NMS per image at shape (1, 3, 640, 640)\n",
      "Results saved to \u001b[1myolov5\\runs\\detect\\exp4\u001b[0m\n",
      "1081 labels saved to yolov5\\runs\\detect\\exp4\\labels\n"
     ]
    }
   ],
   "source": [
    "!python yolov5/detect.py --weights yolov5/yolov5s.pt --img 640 --conf 0.25 --source input_video/test1.mp4 --save-txt --save-conf --mylabels-path video_obj_detect"
   ]
  },
  {
   "attachments": {},
   "cell_type": "markdown",
   "metadata": {},
   "source": [
    "2、使用MediaPipe进行关键点检测，将视频每一帧中检测出的目标（person）输入给MediaPipe的模型，根据模型输出的关键点对原图像进行关键点标注，并且根据关键点的坐标取值分析该人是处在行走还是骑行。（输入视频文件为test.mp4）"
   ]
  },
  {
   "cell_type": "code",
   "execution_count": 28,
   "metadata": {},
   "outputs": [
    {
     "name": "stdout",
     "output_type": "stream",
     "text": [
      "[debug] video_obj_detect/test1/mylabels/test1_45.txt 人0 自1 摩0\n",
      "[debug] video_obj_detect/test1/mylabels/test1_46.txt 人0 自1 摩0\n",
      "[debug] video_obj_detect/test1/mylabels/test1_47.txt 人0 自1 摩0\n",
      "[debug] video_obj_detect/test1/mylabels/test1_48.txt 人0 自1 摩0\n",
      "[debug] video_obj_detect/test1/mylabels/test1_49.txt 人1 自1 摩0\n",
      "[debug] video_obj_detect/test1/mylabels/test1_50.txt 人1 自1 摩0\n",
      "[debug] video_obj_detect/test1/mylabels/test1_51.txt 人1 自1 摩0\n",
      "[debug] video_obj_detect/test1/mylabels/test1_52.txt 人1 自1 摩0\n",
      "[debug] video_obj_detect/test1/mylabels/test1_53.txt 人1 自1 摩0\n",
      "[debug] video_obj_detect/test1/mylabels/test1_54.txt 人1 自1 摩0\n",
      "[debug] video_obj_detect/test1/mylabels/test1_55.txt 人1 自1 摩0\n",
      "[debug] video_obj_detect/test1/mylabels/test1_56.txt 人1 自1 摩0\n",
      "[debug] video_obj_detect/test1/mylabels/test1_57.txt 人1 自1 摩0\n",
      "[debug] video_obj_detect/test1/mylabels/test1_58.txt 人1 自1 摩0\n",
      "[debug] video_obj_detect/test1/mylabels/test1_59.txt 人1 自1 摩0\n",
      "[debug] video_obj_detect/test1/mylabels/test1_60.txt 人1 自1 摩0\n",
      "[debug] video_obj_detect/test1/mylabels/test1_61.txt 人1 自1 摩0\n",
      "[debug] video_obj_detect/test1/mylabels/test1_62.txt 人1 自1 摩0\n",
      "[debug] video_obj_detect/test1/mylabels/test1_63.txt 人1 自1 摩0\n",
      "[debug] video_obj_detect/test1/mylabels/test1_64.txt 人1 自1 摩0\n",
      "[debug] video_obj_detect/test1/mylabels/test1_65.txt 人1 自1 摩0\n",
      "[debug] video_obj_detect/test1/mylabels/test1_66.txt 人1 自1 摩0\n",
      "[debug] video_obj_detect/test1/mylabels/test1_67.txt 人1 自1 摩0\n",
      "[debug] video_obj_detect/test1/mylabels/test1_68.txt 人1 自1 摩0\n",
      "[debug] video_obj_detect/test1/mylabels/test1_69.txt 人1 自1 摩0\n",
      "[debug] video_obj_detect/test1/mylabels/test1_70.txt 人1 自1 摩0\n",
      "[debug] video_obj_detect/test1/mylabels/test1_71.txt 人1 自1 摩0\n",
      "[debug] video_obj_detect/test1/mylabels/test1_72.txt 人1 自1 摩0\n",
      "[debug] video_obj_detect/test1/mylabels/test1_73.txt 人1 自1 摩0\n",
      "[debug] video_obj_detect/test1/mylabels/test1_74.txt 人1 自1 摩0\n",
      "[debug] video_obj_detect/test1/mylabels/test1_75.txt 人1 自1 摩0\n",
      "[debug] video_obj_detect/test1/mylabels/test1_76.txt 人1 自1 摩0\n",
      "[debug] video_obj_detect/test1/mylabels/test1_77.txt 人1 自1 摩0\n",
      "[debug] video_obj_detect/test1/mylabels/test1_78.txt 人1 自1 摩0\n",
      "[debug] video_obj_detect/test1/mylabels/test1_79.txt 人1 自1 摩0\n",
      "[debug] video_obj_detect/test1/mylabels/test1_80.txt 人1 自1 摩0\n",
      "[debug] video_obj_detect/test1/mylabels/test1_81.txt 人1 自1 摩0\n",
      "[debug] video_obj_detect/test1/mylabels/test1_82.txt 人1 自1 摩0\n",
      "[debug] video_obj_detect/test1/mylabels/test1_83.txt 人1 自1 摩0\n",
      "[debug] video_obj_detect/test1/mylabels/test1_84.txt 人1 自1 摩0\n",
      "[debug] video_obj_detect/test1/mylabels/test1_85.txt 人0 自1 摩0\n",
      "[debug] video_obj_detect/test1/mylabels/test1_86.txt 人0 自1 摩0\n",
      "[debug] video_obj_detect/test1/mylabels/test1_87.txt 人0 自1 摩1\n",
      "[debug] video_obj_detect/test1/mylabels/test1_88.txt 人0 自1 摩0\n",
      "[debug] video_obj_detect/test1/mylabels/test1_89.txt 人0 自0 摩1\n"
     ]
    },
    {
     "name": "stderr",
     "output_type": "stream",
     "text": [
      "INFO: Created TensorFlow Lite XNNPACK delegate for CPU.\n",
      "c:\\Users\\chenjiagui\\Desktop\\DLPJ\\pose\\pose.py:70: DeprecationWarning: getsize is deprecated and will be removed in Pillow 10 (2023-07-01). Use getbbox or getlength instead.\n",
      "  text_size = font.getsize(row)\n"
     ]
    }
   ],
   "source": [
    "!python pose/pose.py -i input_video/test1.mp4 -a video_obj_detect"
   ]
  },
  {
   "attachments": {},
   "cell_type": "markdown",
   "metadata": {},
   "source": [
    "3、把之前使用yolov5获得的目标的bounding box位置、目标的类别、置信度通过cv2绘制在视频的每一帧中。（暂时是这样，之后还要分类、统计）"
   ]
  },
  {
   "cell_type": "code",
   "execution_count": 3,
   "metadata": {},
   "outputs": [
    {
     "name": "stderr",
     "output_type": "stream",
     "text": [
      "\u001b[34m\u001b[1mmydetect: \u001b[0mweights=['yolov5/yolov5s.pt'], source=video_obj_detect/test/video_output/pose/test.mp4, data=yolov5\\data\\coco128.yaml, imgsz=[640, 640], conf_thres=0.25, iou_thres=0.45, max_det=1000, device=, view_img=False, save_txt=True, save_conf=True, save_crop=False, nosave=False, classes=None, agnostic_nms=False, augment=False, visualize=False, update=False, project=yolov5\\runs\\detect, name=exp, exist_ok=False, line_thickness=3, hide_labels=False, hide_conf=False, half=False, dnn=False, vid_stride=1, mylabels_path=video_obj_detect\n",
      "YOLOv5  2023-6-8 Python-3.9.12 torch-1.13.1+cpu CPU\n",
      "\n",
      "Fusing layers... \n",
      "YOLOv5s summary: 213 layers, 7225885 parameters, 0 gradients\n"
     ]
    }
   ],
   "source": [
    "!python yolov5/mydetect.py --weights yolov5/yolov5s.pt --img 640 --conf 0.25 --source video_obj_detect/test/video_output/pose/test.mp4 --save-txt --save-conf --mylabels-path video_obj_detect"
   ]
  },
  {
   "cell_type": "code",
   "execution_count": null,
   "metadata": {},
   "outputs": [],
   "source": []
  }
 ],
 "metadata": {
  "kernelspec": {
   "display_name": "base",
   "language": "python",
   "name": "python3"
  },
  "language_info": {
   "codemirror_mode": {
    "name": "ipython",
    "version": 3
   },
   "file_extension": ".py",
   "mimetype": "text/x-python",
   "name": "python",
   "nbconvert_exporter": "python",
   "pygments_lexer": "ipython3",
   "version": "3.9.12"
  },
  "orig_nbformat": 4,
  "vscode": {
   "interpreter": {
    "hash": "a66a995458df657f2d1dd1215d3fd21014c75477484430839b4fdbbf23622b92"
   }
  }
 },
 "nbformat": 4,
 "nbformat_minor": 2
}
