{
 "cells": [
  {
   "attachments": {},
   "cell_type": "markdown",
   "metadata": {},
   "source": [
    "# 实验：车道线检测\n",
    "\n",
    "## 一、实验内容\n",
    "基于机器视觉对交通车道线进行实时检测，应用全卷积神经网络对车道线进行识别和定位，并对车道线识别结果进行可视化。\n",
    "\n",
    "## 二、实验目标\n",
    "1. 了解全卷积神经网络基本原理\n",
    "2. 熟悉车道线检测的常规流程\n",
    "3. 掌握车道线检测模型的使用方法\n"
   ]
  },
  {
   "attachments": {},
   "cell_type": "markdown",
   "metadata": {},
   "source": [
    "## 三、实验过程\n",
    "\n",
    "\n",
    "### 3.1 模型训练\n",
    "\n",
    "首先导入需要的组件包，Numpy、keras、sklearn等，代码如下："
   ]
  },
  {
   "cell_type": "code",
   "execution_count": 10,
   "metadata": {},
   "outputs": [],
   "source": [
    "import numpy as np\n",
    "import pickle\n",
    "from sklearn.utils import shuffle\n",
    "from sklearn.model_selection import train_test_split\n",
    "\n",
    "# Import necessary items from Keras\n",
    "from keras.models import Sequential\n",
    "from keras.layers import Activation, Dropout, UpSampling2D\n",
    "from keras.layers import Conv2DTranspose, Conv2D, MaxPooling2D\n",
    "from keras.layers import BatchNormalization\n",
    "from keras.preprocessing.image import ImageDataGenerator\n",
    "from keras import regularizers"
   ]
  },
  {
   "attachments": {},
   "cell_type": "markdown",
   "metadata": {},
   "source": [
    "#### 1)模型结构定义\n",
    "网络输入层为80 x 160 x 3（RGB）形状的道路图像，标签为80 x 160 x 1，只有G通道重新绘制车道，实现代码如下："
   ]
  },
  {
   "cell_type": "code",
   "execution_count": 11,
   "metadata": {},
   "outputs": [],
   "source": [
    "def create_model(input_shape, pool_size):\n",
    "    # 创建网络模型\n",
    "    model = Sequential()\n",
    "    # 对输入层进行归一化处理\n",
    "    model.add(BatchNormalization(input_shape=input_shape))\n",
    "\n",
    "    # 卷积层1，名为Conv1\n",
    "    model.add(Conv2D(8, (3, 3), padding='valid', strides=(1,1), activation = 'relu', name = 'Conv1'))\n",
    "\n",
    "    # 卷积层2\n",
    "    model.add(Conv2D(16, (3, 3), padding='valid', strides=(1,1), activation = 'relu', name = 'Conv2'))\n",
    "\n",
    "    # 最大化层\n",
    "    model.add(MaxPooling2D(pool_size=pool_size))\n",
    "\n",
    "    # 卷积层3\n",
    "    model.add(Conv2D(16, (3, 3), padding='valid', strides=(1,1), activation = 'relu', name = 'Conv3'))\n",
    "    model.add(Dropout(0.2))\n",
    "\n",
    "    # 卷积层4\n",
    "    model.add(Conv2D(32, (3, 3), padding='valid', strides=(1,1), activation = 'relu', name = 'Conv4'))\n",
    "    model.add(Dropout(0.2))\n",
    "\n",
    "    # 卷积层5\n",
    "    model.add(Conv2D(32, (3, 3), padding='valid', strides=(1,1), activation = 'relu', name = 'Conv5'))\n",
    "    model.add(Dropout(0.2))\n",
    "\n",
    "    # 最大化层2\n",
    "    model.add(MaxPooling2D(pool_size=pool_size))\n",
    "\n",
    "    # 卷积层6\n",
    "    model.add(Conv2D(64, (3, 3), padding='valid', strides=(1,1), activation = 'relu', name = 'Conv6'))\n",
    "    model.add(Dropout(0.2))\n",
    "\n",
    "    # 卷积层7\n",
    "    model.add(Conv2D(64, (3, 3), padding='valid', strides=(1,1), activation = 'relu', name = 'Conv7'))\n",
    "    model.add(Dropout(0.2))\n",
    "\n",
    "    # 最大化层3\n",
    "    model.add(MaxPooling2D(pool_size=pool_size))\n",
    "\n",
    "    # 上采样层1\n",
    "    model.add(UpSampling2D(size=pool_size))\n",
    "\n",
    "    # 反卷积层 1\n",
    "    model.add(Conv2DTranspose(64, (3, 3), padding='valid', strides=(1,1), activation = 'relu', name = 'Deconv1'))\n",
    "    model.add(Dropout(0.2))\n",
    "\n",
    "    # 反卷积层 2\n",
    "    model.add(Conv2DTranspose(64, (3, 3), padding='valid', strides=(1,1), activation = 'relu', name = 'Deconv2'))\n",
    "    model.add(Dropout(0.2))\n",
    "\n",
    "    # 上采样层 2\n",
    "    model.add(UpSampling2D(size=pool_size))\n",
    "\n",
    "    # 反卷积层 3\n",
    "    model.add(Conv2DTranspose(32, (3, 3), padding='valid', strides=(1,1), activation = 'relu', name = 'Deconv3'))\n",
    "    model.add(Dropout(0.2))\n",
    "\n",
    "    # 反卷积层 4\n",
    "    model.add(Conv2DTranspose(32, (3, 3), padding='valid', strides=(1,1), activation = 'relu', name = 'Deconv4'))\n",
    "    model.add(Dropout(0.2))\n",
    "\n",
    "    # 反卷积层 5\n",
    "    model.add(Conv2DTranspose(16, (3, 3), padding='valid', strides=(1,1), activation = 'relu', name = 'Deconv5'))\n",
    "    model.add(Dropout(0.2))\n",
    "\n",
    "    # 上采样层 3\n",
    "    model.add(UpSampling2D(size=pool_size))\n",
    "\n",
    "    # 反卷积层 6\n",
    "    model.add(Conv2DTranspose(16, (3, 3), padding='valid', strides=(1,1), activation = 'relu', name = 'Deconv6'))\n",
    "\n",
    "    # 输出层\n",
    "    model.add(Conv2DTranspose(1, (3, 3), padding='valid', strides=(1,1), activation = 'relu', name = 'Final'))\n",
    "\n",
    "    return model"
   ]
  },
  {
   "attachments": {},
   "cell_type": "markdown",
   "metadata": {},
   "source": [
    "#### 2）加载数据"
   ]
  },
  {
   "cell_type": "code",
   "execution_count": 12,
   "metadata": {},
   "outputs": [
    {
     "name": "stdout",
     "output_type": "stream",
     "text": [
      "{0, 1, 2, 3, 4, 5, 6, 7, 8, 9, 10, 11, 12, 13, 14, 15, 16, 17, 18, 19, 20, 21, 22, 23, 24, 25, 26, 27, 28, 29, 30, 31, 32, 33, 34, 35, 36, 37, 38, 39, 40, 41, 42, 43, 44, 45, 46, 47, 48, 49, 50, 51, 52, 53, 54, 55, 56, 57, 58, 59, 60, 61, 62, 63, 64, 65, 66, 67, 68, 69, 70, 71, 72, 73, 74, 75, 76, 77, 78, 79, 80, 81, 82, 83, 84, 85, 86, 87, 88, 89, 90, 91, 92, 93, 94, 95, 96, 97, 98, 99, 100, 101, 102, 103, 104, 105, 106, 107, 108, 109, 110, 111, 112, 113, 114, 115, 116, 117, 118, 119, 120, 121, 122, 123, 124, 125, 126, 127, 128, 129, 130, 131, 132, 133, 134, 135, 136, 137, 138, 139, 140, 141, 142, 143, 144, 145, 146, 147, 148, 149, 150, 151, 152, 153, 154, 155, 156, 157, 158, 159, 160, 161, 162, 163, 164, 165, 166, 167, 168, 169, 170, 171, 172, 173, 174, 175, 176, 177, 178, 179, 180, 181, 182, 183, 184, 185, 186, 187, 188, 189, 190, 191, 192, 193, 194, 195, 196, 197, 198, 199, 200, 201, 202, 203, 204, 205, 206, 207, 208, 209, 210, 211, 212, 213, 214, 215, 216, 217, 218, 219, 220, 221, 222, 223, 224, 225, 226, 227, 228, 229, 230, 231, 232, 233, 234, 235, 236, 237, 238, 239, 240, 241, 242, 243, 244, 245, 246, 247, 248, 249, 250, 251, 252, 253, 254, 255}\n",
      "loaded train samples: 12764\n"
     ]
    }
   ],
   "source": [
    "# 加载训练数据\n",
    "train_images = pickle.load(open(\"full_CNN_train.p\", \"rb\" ))\n",
    "\n",
    "# 加载标签数据\n",
    "labels = pickle.load(open(\"full_CNN_labels.p\", \"rb\" ))\n",
    "\n",
    "# 对数据进行预处理\n",
    "train_images = np.array(train_images)\n",
    "labels = np.array(labels)\n",
    "\n",
    "flatten = labels.reshape(-1)\n",
    "print(set(flatten.tolist()))\n",
    "\n",
    "# 对标签进行归一化处理\n",
    "labels = labels / 255\n",
    "\n",
    "# 混淆数据\n",
    "train_images, labels = shuffle(train_images, labels)\n",
    "# 划分训练集和测试集\n",
    "X_train, X_val, y_train, y_val = train_test_split(train_images, labels, test_size=0.1)\n",
    "\n",
    "print(\"loaded train samples:\", len(train_images))"
   ]
  },
  {
   "attachments": {},
   "cell_type": "markdown",
   "metadata": {},
   "source": [
    "#### 3）构建并编译模型"
   ]
  },
  {
   "cell_type": "code",
   "execution_count": 13,
   "metadata": {},
   "outputs": [
    {
     "name": "stdout",
     "output_type": "stream",
     "text": [
      "Model: \"sequential\"\n",
      "_________________________________________________________________\n",
      " Layer (type)                Output Shape              Param #   \n",
      "=================================================================\n",
      " batch_normalization (Batch  (None, 80, 160, 3)        12        \n",
      " Normalization)                                                  \n",
      "                                                                 \n",
      " Conv1 (Conv2D)              (None, 78, 158, 8)        224       \n",
      "                                                                 \n",
      " Conv2 (Conv2D)              (None, 76, 156, 16)       1168      \n",
      "                                                                 \n",
      " max_pooling2d (MaxPooling2  (None, 38, 78, 16)        0         \n",
      " D)                                                              \n",
      "                                                                 \n",
      " Conv3 (Conv2D)              (None, 36, 76, 16)        2320      \n",
      "                                                                 \n",
      " dropout (Dropout)           (None, 36, 76, 16)        0         \n",
      "                                                                 \n",
      " Conv4 (Conv2D)              (None, 34, 74, 32)        4640      \n",
      "                                                                 \n",
      " dropout_1 (Dropout)         (None, 34, 74, 32)        0         \n",
      "                                                                 \n",
      " Conv5 (Conv2D)              (None, 32, 72, 32)        9248      \n",
      "                                                                 \n",
      " dropout_2 (Dropout)         (None, 32, 72, 32)        0         \n",
      "                                                                 \n",
      " max_pooling2d_1 (MaxPoolin  (None, 16, 36, 32)        0         \n",
      " g2D)                                                            \n",
      "                                                                 \n",
      " Conv6 (Conv2D)              (None, 14, 34, 64)        18496     \n",
      "                                                                 \n",
      " dropout_3 (Dropout)         (None, 14, 34, 64)        0         \n",
      "                                                                 \n",
      " Conv7 (Conv2D)              (None, 12, 32, 64)        36928     \n",
      "                                                                 \n",
      " dropout_4 (Dropout)         (None, 12, 32, 64)        0         \n",
      "                                                                 \n",
      " max_pooling2d_2 (MaxPoolin  (None, 6, 16, 64)         0         \n",
      " g2D)                                                            \n",
      "                                                                 \n",
      " up_sampling2d (UpSampling2  (None, 12, 32, 64)        0         \n",
      " D)                                                              \n",
      "                                                                 \n",
      " Deconv1 (Conv2DTranspose)   (None, 14, 34, 64)        36928     \n",
      "                                                                 \n",
      " dropout_5 (Dropout)         (None, 14, 34, 64)        0         \n",
      "                                                                 \n",
      " Deconv2 (Conv2DTranspose)   (None, 16, 36, 64)        36928     \n",
      "                                                                 \n",
      " dropout_6 (Dropout)         (None, 16, 36, 64)        0         \n",
      "                                                                 \n",
      " up_sampling2d_1 (UpSamplin  (None, 32, 72, 64)        0         \n",
      " g2D)                                                            \n",
      "                                                                 \n",
      " Deconv3 (Conv2DTranspose)   (None, 34, 74, 32)        18464     \n",
      "                                                                 \n",
      " dropout_7 (Dropout)         (None, 34, 74, 32)        0         \n",
      "                                                                 \n",
      " Deconv4 (Conv2DTranspose)   (None, 36, 76, 32)        9248      \n",
      "                                                                 \n",
      " dropout_8 (Dropout)         (None, 36, 76, 32)        0         \n",
      "                                                                 \n",
      " Deconv5 (Conv2DTranspose)   (None, 38, 78, 16)        4624      \n",
      "                                                                 \n",
      " dropout_9 (Dropout)         (None, 38, 78, 16)        0         \n",
      "                                                                 \n",
      " up_sampling2d_2 (UpSamplin  (None, 76, 156, 16)       0         \n",
      " g2D)                                                            \n",
      "                                                                 \n",
      " Deconv6 (Conv2DTranspose)   (None, 78, 158, 16)       2320      \n",
      "                                                                 \n",
      " Final (Conv2DTranspose)     (None, 80, 160, 1)        145       \n",
      "                                                                 \n",
      "=================================================================\n",
      "Total params: 181693 (709.74 KB)\n",
      "Trainable params: 181687 (709.71 KB)\n",
      "Non-trainable params: 6 (24.00 Byte)\n",
      "_________________________________________________________________\n"
     ]
    }
   ],
   "source": [
    "# 定义超参\n",
    "#批大小\n",
    "batch_size = 128\n",
    "#训练回合数\n",
    "epochs = 10\n",
    "#池化大小\n",
    "pool_size = (2, 2)\n",
    "#输入大小\n",
    "input_shape = X_train.shape[1:]\n",
    "\n",
    "# 构建模型\n",
    "model = create_model(input_shape, pool_size)\n",
    "\n",
    "# 构建数据生成器实现通道增强\n",
    "datagen = ImageDataGenerator(channel_shift_range=0.2)\n",
    "datagen.fit(X_train)\n",
    "\n",
    "# 编译模型\n",
    "model.compile(optimizer='Adam', loss='mean_squared_error')\n",
    "# 可视化模型\n",
    "model.summary()\n"
   ]
  },
  {
   "attachments": {},
   "cell_type": "markdown",
   "metadata": {},
   "source": [
    "#### 4)训练模型"
   ]
  },
  {
   "cell_type": "code",
   "execution_count": 14,
   "metadata": {},
   "outputs": [
    {
     "name": "stdout",
     "output_type": "stream",
     "text": [
      "Epoch 1/10\n"
     ]
    },
    {
     "name": "stderr",
     "output_type": "stream",
     "text": [
      "/var/folders/zm/2qblkjpd17j1wbw32rvn1_fr0000gn/T/ipykernel_74080/2684464225.py:1: UserWarning: `Model.fit_generator` is deprecated and will be removed in a future version. Please use `Model.fit`, which supports generators.\n",
      "  model.fit_generator(datagen.flow(X_train, y_train, batch_size=batch_size), steps_per_epoch=len(X_train)/batch_size,\n"
     ]
    },
    {
     "name": "stdout",
     "output_type": "stream",
     "text": [
      "89/89 [==============================] - 93s 1s/step - loss: 0.0672 - val_loss: 0.0362\n",
      "Epoch 2/10\n",
      "89/89 [==============================] - 92s 1s/step - loss: 0.0188 - val_loss: 0.0148\n",
      "Epoch 3/10\n",
      "89/89 [==============================] - 92s 1s/step - loss: 0.0129 - val_loss: 0.0109\n",
      "Epoch 4/10\n",
      "89/89 [==============================] - 91s 1s/step - loss: 0.0108 - val_loss: 0.0093\n",
      "Epoch 5/10\n",
      "89/89 [==============================] - 94s 1s/step - loss: 0.0097 - val_loss: 0.0089\n",
      "Epoch 6/10\n",
      "89/89 [==============================] - 96s 1s/step - loss: 0.0090 - val_loss: 0.0083\n",
      "Epoch 7/10\n",
      "89/89 [==============================] - 98s 1s/step - loss: 0.0086 - val_loss: 0.0081\n",
      "Epoch 8/10\n",
      "89/89 [==============================] - 99s 1s/step - loss: 0.0083 - val_loss: 0.0079\n",
      "Epoch 9/10\n",
      "89/89 [==============================] - 99s 1s/step - loss: 0.0077 - val_loss: 0.0066\n",
      "Epoch 10/10\n",
      "89/89 [==============================] - 98s 1s/step - loss: 0.0070 - val_loss: 0.0061\n"
     ]
    },
    {
     "data": {
      "text/plain": [
       "<keras.src.callbacks.History at 0x2a4631880>"
      ]
     },
     "execution_count": 14,
     "metadata": {},
     "output_type": "execute_result"
    }
   ],
   "source": [
    "model.fit_generator(datagen.flow(X_train, y_train, batch_size=batch_size), steps_per_epoch=len(X_train)/batch_size,\n",
    "epochs=epochs, verbose=1, validation_data=(X_val, y_val))"
   ]
  },
  {
   "attachments": {},
   "cell_type": "markdown",
   "metadata": {},
   "source": [
    "#### 5)保存模型"
   ]
  },
  {
   "cell_type": "code",
   "execution_count": 15,
   "metadata": {},
   "outputs": [
    {
     "name": "stderr",
     "output_type": "stream",
     "text": [
      "/opt/homebrew/Caskroom/miniforge/base/envs/my_env/lib/python3.8/site-packages/keras/src/engine/training.py:3000: UserWarning: You are saving your model as an HDF5 file via `model.save()`. This file format is considered legacy. We recommend using instead the native Keras format, e.g. `model.save('my_model.keras')`.\n",
      "  saving_api.save_model(\n"
     ]
    }
   ],
   "source": [
    "# Freeze layers since training is done\n",
    "model.trainable = False\n",
    "model.compile(optimizer='Adam', loss='mean_squared_error')\n",
    "\n",
    "# Save model architecture and weights\n",
    "model.save('full_CNN_model_tiny.h5')\n"
   ]
  },
  {
   "attachments": {},
   "cell_type": "markdown",
   "metadata": {},
   "source": [
    "### 3.2 加载并使用模型\n",
    "\n",
    "#### 1） 加载Python相关组件"
   ]
  },
  {
   "cell_type": "code",
   "execution_count": 16,
   "metadata": {},
   "outputs": [],
   "source": [
    "import numpy\n",
    "import numpy as np\n",
    "import cv2\n",
    "from PIL.Image import Image\n",
    "from keras.models import load_model\n",
    "from IPython.display import clear_output, Image, display, HTML\n",
    "\n"
   ]
  },
  {
   "attachments": {},
   "cell_type": "markdown",
   "metadata": {},
   "source": [
    "#### 2）定义工具类"
   ]
  },
  {
   "cell_type": "code",
   "execution_count": 17,
   "metadata": {},
   "outputs": [],
   "source": [
    "# 道路线类\n",
    "class Lanes():\n",
    "    def __init__(self):\n",
    "        self.recent_fit = []\n",
    "        self.avg_fit = []"
   ]
  },
  {
   "cell_type": "code",
   "execution_count": 18,
   "metadata": {},
   "outputs": [],
   "source": [
    "#图像显示方法\n",
    "def arrayShow(imageArray):\n",
    "    ret, jpg = cv2.imencode('.jpg', imageArray)\n",
    "    return Image(jpg)"
   ]
  },
  {
   "attachments": {},
   "cell_type": "markdown",
   "metadata": {},
   "source": [
    "#### 3）加载检测模型"
   ]
  },
  {
   "cell_type": "code",
   "execution_count": 19,
   "metadata": {},
   "outputs": [],
   "source": [
    "# 加载模型\n",
    "model = load_model('full_CNN_model.h5')"
   ]
  },
  {
   "attachments": {},
   "cell_type": "markdown",
   "metadata": {},
   "source": [
    "#### 4）读取视频文件和输出检测结果\n",
    "\n",
    "读取input目录下的demo.mp4文件，逐帧读取并交给模型进行检测和识别，然后对检测结果计算其均值，并将检测结果绘制输出。\n",
    "\n",
    "代码如下："
   ]
  },
  {
   "cell_type": "code",
   "execution_count": 20,
   "metadata": {
    "scrolled": false
   },
   "outputs": [
    {
     "data": {
      "image/png": "[encoded data removed]",
      "text/plain": [
       "<IPython.core.display.Image object>"
      ]
     },
     "metadata": {},
     "output_type": "display_data"
    },
    {
     "name": "stdout",
     "output_type": "stream",
     "text": [
      "[INFO] cleaning up...\n"
     ]
    }
   ],
   "source": [
    "#读取视频文件\n",
    "vs = cv2.VideoCapture(\"input/demo1.mp4\")\n",
    "\n",
    "frameIndex = 0\n",
    "\n",
    "lanes = Lanes()\n",
    "\n",
    "#循环读取\n",
    "while True:\n",
    "    #读取视频帧\n",
    "    (grabbed, frame_source) = vs.read()\n",
    "    if not grabbed:\n",
    "        break\n",
    "    \n",
    "    #将视频帧resize为模型的输入大小\n",
    "    frame_show = cv2.resize(frame_source, (576, 288))\n",
    "    frame = cv2.resize(frame_show, (160, 80))\n",
    "\n",
    "\n",
    "    rgb_small_frame = frame[None,:,:,:]\n",
    "\n",
    "   \n",
    "    # 模型推理检测\n",
    "    prediction = model.predict(rgb_small_frame)[0] * 255\n",
    "\n",
    "    # 储存预测结果到列表中\n",
    "    lanes.recent_fit.append(prediction)\n",
    "    # 只使用最近的数据\n",
    "    if len(lanes.recent_fit) > 5:\n",
    "        lanes.recent_fit = lanes.recent_fit[1:]\n",
    "\n",
    "    # 计算平均预测结果\n",
    "    lanes.avg_fit = np.mean(np.array([i for i in lanes.recent_fit]), axis = 0)\n",
    "\n",
    "    # Generate fake R & B color dimensions, stack with G\n",
    "    blanks = np.zeros_like(lanes.avg_fit).astype(np.uint8)\n",
    "    lane_drawn = np.dstack((blanks, lanes.avg_fit, blanks))\n",
    "    \n",
    "    #恢复成原始视频大小\n",
    "    lane_image = cv2.resize(lane_drawn, (576, 288))\n",
    "\n",
    "    #合并原始图像和检测结果\n",
    "    img = cv2.addWeighted(frame_show, 0.3, lane_image, 0.7, 0,dtype = cv2.CV_32F) \n",
    "\n",
    "    \n",
    "    # 清空绘图空间\n",
    "    clear_output(wait=True)\n",
    "    \n",
    "    # 显示处理结果\n",
    "    display(arrayShow(img))\n",
    "\n",
    "    #按键盘中的q键退出检测\n",
    "    if cv2.waitKey(1) & 0xFF == ord('q'):\n",
    "        break\n",
    "\n",
    "# 释放资源\n",
    "print(\"[INFO] cleaning up...\")\n",
    "vs.release()\n",
    "cv2.destroyAllWindows()\n"
   ]
  },
  {
   "attachments": {},
   "cell_type": "markdown",
   "metadata": {},
   "source": [
    "## 四、实验总结\n",
    "\n",
    "本实验基于深度学习算法进行交通车道检测，通过将视频信号进行分帧后交由模型进行检测车道位置信息，并通过图像合成将其检测结合与原视频帧合并可视化输出。"
   ]
  },
  {
   "cell_type": "code",
   "execution_count": null,
   "metadata": {},
   "outputs": [],
   "source": []
  }
 ],
 "metadata": {
  "kernelspec": {
   "display_name": "Python 3",
   "language": "python",
   "name": "python3"
  },
  "language_info": {
   "codemirror_mode": {
    "name": "ipython",
    "version": 3
   },
   "file_extension": ".py",
   "mimetype": "text/x-python",
   "name": "python",
   "nbconvert_exporter": "python",
   "pygments_lexer": "ipython3",
   "version": "3.8.16"
  }
 },
 "nbformat": 4,
 "nbformat_minor": 2
}
